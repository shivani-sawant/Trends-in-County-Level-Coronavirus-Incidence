{
 "cells": [
  {
   "cell_type": "code",
   "execution_count": null,
   "id": "7c1b7cd1",
   "metadata": {},
   "outputs": [],
   "source": [
    "# EXPLORATORY DATA ANALYSIS TO ANALYZE THE TYPE OF RELATIONSHIP BETWEEN EVERY SOCIO ECONOMIC FACTORS AND COVID CASES"
   ]
  },
  {
   "cell_type": "code",
   "execution_count": 21,
   "id": "5b67b5ef",
   "metadata": {},
   "outputs": [],
   "source": [
    "#from sklearn.cluster import KMeans\n",
    "import pandas as pd\n",
    "import numpy as np\n",
    "import pickle \n",
    "import seaborn as sns"
   ]
  },
  {
   "cell_type": "code",
   "execution_count": 13,
   "id": "a0d97a3b",
   "metadata": {},
   "outputs": [
    {
     "data": {
      "text/html": [
       "<div>\n",
       "<style scoped>\n",
       "    .dataframe tbody tr th:only-of-type {\n",
       "        vertical-align: middle;\n",
       "    }\n",
       "\n",
       "    .dataframe tbody tr th {\n",
       "        vertical-align: top;\n",
       "    }\n",
       "\n",
       "    .dataframe thead th {\n",
       "        text-align: right;\n",
       "    }\n",
       "</style>\n",
       "<table border=\"1\" class=\"dataframe\">\n",
       "  <thead>\n",
       "    <tr style=\"text-align: right;\">\n",
       "      <th></th>\n",
       "      <th>States</th>\n",
       "      <th>POP_ESTIMATE_2018</th>\n",
       "      <th>Less than a high school diploma</th>\n",
       "      <th>Employed</th>\n",
       "      <th>Unemployed</th>\n",
       "      <th>Unemployment_rate</th>\n",
       "      <th>Median_Household_Income</th>\n",
       "      <th>Jan Temp AVG / F</th>\n",
       "      <th>Feb Temp AVG / F</th>\n",
       "      <th>Mar Temp AVG / F</th>\n",
       "      <th>...</th>\n",
       "      <th>Family Medicine/General Practice (AAMC)</th>\n",
       "      <th>Total nurse practitioners (2019)</th>\n",
       "      <th>Total physician assistants (2019)</th>\n",
       "      <th>Total Hospitals (2019)</th>\n",
       "      <th>Family Medicine/General Practice Primary Care (2019)</th>\n",
       "      <th>Total Primary Care Physicians (2019)</th>\n",
       "      <th>Emergency Medicine specialists (2019)</th>\n",
       "      <th>ICU Beds</th>\n",
       "      <th>COVID_CASES</th>\n",
       "      <th>COVID_DEATHS</th>\n",
       "    </tr>\n",
       "  </thead>\n",
       "  <tbody>\n",
       "    <tr>\n",
       "      <th>0</th>\n",
       "      <td>Alabama</td>\n",
       "      <td>0.995577</td>\n",
       "      <td>0.968027</td>\n",
       "      <td>0.992200</td>\n",
       "      <td>0.990183</td>\n",
       "      <td>-0.311122</td>\n",
       "      <td>0.524105</td>\n",
       "      <td>-0.072990</td>\n",
       "      <td>-0.071128</td>\n",
       "      <td>-0.059384</td>\n",
       "      <td>...</td>\n",
       "      <td>0.995577</td>\n",
       "      <td>0.995577</td>\n",
       "      <td>0.995577</td>\n",
       "      <td>0.995577</td>\n",
       "      <td>0.995577</td>\n",
       "      <td>0.995577</td>\n",
       "      <td>0.995577</td>\n",
       "      <td>0.916698</td>\n",
       "      <td>1</td>\n",
       "      <td>0.974938</td>\n",
       "    </tr>\n",
       "    <tr>\n",
       "      <th>1</th>\n",
       "      <td>Alaska</td>\n",
       "      <td>0.995565</td>\n",
       "      <td>0.997425</td>\n",
       "      <td>0.991853</td>\n",
       "      <td>0.997205</td>\n",
       "      <td>-0.188534</td>\n",
       "      <td>0.303825</td>\n",
       "      <td>-0.066277</td>\n",
       "      <td>-0.113996</td>\n",
       "      <td>0.019013</td>\n",
       "      <td>...</td>\n",
       "      <td>0.995565</td>\n",
       "      <td>0.995565</td>\n",
       "      <td>0.995565</td>\n",
       "      <td>0.995565</td>\n",
       "      <td>0.995565</td>\n",
       "      <td>0.995565</td>\n",
       "      <td>0.995565</td>\n",
       "      <td>0.968809</td>\n",
       "      <td>1</td>\n",
       "      <td>0.997544</td>\n",
       "    </tr>\n",
       "    <tr>\n",
       "      <th>2</th>\n",
       "      <td>Arizona</td>\n",
       "      <td>0.999203</td>\n",
       "      <td>0.998481</td>\n",
       "      <td>0.999316</td>\n",
       "      <td>0.991545</td>\n",
       "      <td>-0.217850</td>\n",
       "      <td>0.499942</td>\n",
       "      <td>0.366051</td>\n",
       "      <td>0.350076</td>\n",
       "      <td>0.407128</td>\n",
       "      <td>...</td>\n",
       "      <td>0.999203</td>\n",
       "      <td>0.999203</td>\n",
       "      <td>0.999203</td>\n",
       "      <td>0.999203</td>\n",
       "      <td>0.999203</td>\n",
       "      <td>0.999203</td>\n",
       "      <td>0.999203</td>\n",
       "      <td>0.990510</td>\n",
       "      <td>1</td>\n",
       "      <td>0.998677</td>\n",
       "    </tr>\n",
       "    <tr>\n",
       "      <th>3</th>\n",
       "      <td>Arkansas</td>\n",
       "      <td>0.992226</td>\n",
       "      <td>0.983741</td>\n",
       "      <td>0.992450</td>\n",
       "      <td>0.977475</td>\n",
       "      <td>-0.381180</td>\n",
       "      <td>0.599467</td>\n",
       "      <td>-0.197845</td>\n",
       "      <td>-0.198489</td>\n",
       "      <td>-0.170171</td>\n",
       "      <td>...</td>\n",
       "      <td>0.992226</td>\n",
       "      <td>0.992226</td>\n",
       "      <td>0.992226</td>\n",
       "      <td>0.992226</td>\n",
       "      <td>0.992226</td>\n",
       "      <td>0.992226</td>\n",
       "      <td>0.992226</td>\n",
       "      <td>0.848634</td>\n",
       "      <td>1</td>\n",
       "      <td>0.966734</td>\n",
       "    </tr>\n",
       "    <tr>\n",
       "      <th>4</th>\n",
       "      <td>California</td>\n",
       "      <td>0.985956</td>\n",
       "      <td>0.994198</td>\n",
       "      <td>0.979314</td>\n",
       "      <td>0.992024</td>\n",
       "      <td>-0.096900</td>\n",
       "      <td>0.117064</td>\n",
       "      <td>0.273434</td>\n",
       "      <td>0.259775</td>\n",
       "      <td>0.293389</td>\n",
       "      <td>...</td>\n",
       "      <td>0.985956</td>\n",
       "      <td>0.985956</td>\n",
       "      <td>0.985956</td>\n",
       "      <td>0.985956</td>\n",
       "      <td>0.985956</td>\n",
       "      <td>0.985956</td>\n",
       "      <td>0.985956</td>\n",
       "      <td>0.978185</td>\n",
       "      <td>1</td>\n",
       "      <td>0.993039</td>\n",
       "    </tr>\n",
       "  </tbody>\n",
       "</table>\n",
       "<p>5 rows × 65 columns</p>\n",
       "</div>"
      ],
      "text/plain": [
       "       States  POP_ESTIMATE_2018  Less than a high school diploma   Employed  \\\n",
       "0     Alabama           0.995577                          0.968027  0.992200   \n",
       "1      Alaska           0.995565                          0.997425  0.991853   \n",
       "2     Arizona           0.999203                          0.998481  0.999316   \n",
       "3    Arkansas           0.992226                          0.983741  0.992450   \n",
       "4  California           0.985956                          0.994198  0.979314   \n",
       "\n",
       "   Unemployed  Unemployment_rate  Median_Household_Income  Jan Temp AVG / F  \\\n",
       "0    0.990183          -0.311122                 0.524105         -0.072990   \n",
       "1    0.997205          -0.188534                 0.303825         -0.066277   \n",
       "2    0.991545          -0.217850                 0.499942          0.366051   \n",
       "3    0.977475          -0.381180                 0.599467         -0.197845   \n",
       "4    0.992024          -0.096900                 0.117064          0.273434   \n",
       "\n",
       "   Feb Temp AVG / F  Mar Temp AVG / F  ...  \\\n",
       "0         -0.071128         -0.059384  ...   \n",
       "1         -0.113996          0.019013  ...   \n",
       "2          0.350076          0.407128  ...   \n",
       "3         -0.198489         -0.170171  ...   \n",
       "4          0.259775          0.293389  ...   \n",
       "\n",
       "   Family Medicine/General Practice (AAMC)  Total nurse practitioners (2019)  \\\n",
       "0                                 0.995577                          0.995577   \n",
       "1                                 0.995565                          0.995565   \n",
       "2                                 0.999203                          0.999203   \n",
       "3                                 0.992226                          0.992226   \n",
       "4                                 0.985956                          0.985956   \n",
       "\n",
       "   Total physician assistants (2019)  Total Hospitals (2019)  \\\n",
       "0                           0.995577                0.995577   \n",
       "1                           0.995565                0.995565   \n",
       "2                           0.999203                0.999203   \n",
       "3                           0.992226                0.992226   \n",
       "4                           0.985956                0.985956   \n",
       "\n",
       "   Family Medicine/General Practice Primary Care (2019)  \\\n",
       "0                                           0.995577      \n",
       "1                                           0.995565      \n",
       "2                                           0.999203      \n",
       "3                                           0.992226      \n",
       "4                                           0.985956      \n",
       "\n",
       "   Total Primary Care Physicians (2019)  \\\n",
       "0                              0.995577   \n",
       "1                              0.995565   \n",
       "2                              0.999203   \n",
       "3                              0.992226   \n",
       "4                              0.985956   \n",
       "\n",
       "   Emergency Medicine specialists (2019)  ICU Beds  COVID_CASES  COVID_DEATHS  \n",
       "0                               0.995577  0.916698            1      0.974938  \n",
       "1                               0.995565  0.968809            1      0.997544  \n",
       "2                               0.999203  0.990510            1      0.998677  \n",
       "3                               0.992226  0.848634            1      0.966734  \n",
       "4                               0.985956  0.978185            1      0.993039  \n",
       "\n",
       "[5 rows x 65 columns]"
      ]
     },
     "execution_count": 13,
     "metadata": {},
     "output_type": "execute_result"
    }
   ],
   "source": [
    "data= pd.read_csv(\"D:\\\\CPT_S_575\\\\Project\\\\Dataset\\\\STATE_Correlations\\\\corr_all_counties.csv\")\n",
    "data.head()"
   ]
  },
  {
   "cell_type": "code",
   "execution_count": 16,
   "id": "afc7a714",
   "metadata": {},
   "outputs": [
    {
     "data": {
      "text/html": [
       "<div>\n",
       "<style scoped>\n",
       "    .dataframe tbody tr th:only-of-type {\n",
       "        vertical-align: middle;\n",
       "    }\n",
       "\n",
       "    .dataframe tbody tr th {\n",
       "        vertical-align: top;\n",
       "    }\n",
       "\n",
       "    .dataframe thead th {\n",
       "        text-align: right;\n",
       "    }\n",
       "</style>\n",
       "<table border=\"1\" class=\"dataframe\">\n",
       "  <thead>\n",
       "    <tr style=\"text-align: right;\">\n",
       "      <th></th>\n",
       "      <th>POP_ESTIMATE_2018</th>\n",
       "    </tr>\n",
       "  </thead>\n",
       "  <tbody>\n",
       "    <tr>\n",
       "      <th>0</th>\n",
       "      <td>0.995577</td>\n",
       "    </tr>\n",
       "    <tr>\n",
       "      <th>1</th>\n",
       "      <td>0.995565</td>\n",
       "    </tr>\n",
       "    <tr>\n",
       "      <th>2</th>\n",
       "      <td>0.999203</td>\n",
       "    </tr>\n",
       "    <tr>\n",
       "      <th>3</th>\n",
       "      <td>0.992226</td>\n",
       "    </tr>\n",
       "    <tr>\n",
       "      <th>4</th>\n",
       "      <td>0.985956</td>\n",
       "    </tr>\n",
       "  </tbody>\n",
       "</table>\n",
       "</div>"
      ],
      "text/plain": [
       "   POP_ESTIMATE_2018\n",
       "0           0.995577\n",
       "1           0.995565\n",
       "2           0.999203\n",
       "3           0.992226\n",
       "4           0.985956"
      ]
     },
     "execution_count": 16,
     "metadata": {},
     "output_type": "execute_result"
    }
   ],
   "source": [
    "#data_1= data[[\"POP_ESTIMATE_2018\"]]\n",
    "#data_1.head()"
   ]
  },
  {
   "cell_type": "code",
   "execution_count": 17,
   "id": "10ca1560",
   "metadata": {},
   "outputs": [],
   "source": [
    "#kmeans = KMeans(n_clusters=5)"
   ]
  },
  {
   "cell_type": "code",
   "execution_count": 22,
   "id": "6b634bd8",
   "metadata": {},
   "outputs": [],
   "source": [
    "#fit_data= kmeans.fit(data_1.values)"
   ]
  },
  {
   "cell_type": "code",
   "execution_count": 23,
   "id": "fcb0028e",
   "metadata": {},
   "outputs": [
    {
     "name": "stdout",
     "output_type": "stream",
     "text": [
      "[1 1 3 1 0 1 3 3 2 1 3 1 3 3 1 1 3 0 4 4 2 1 1 0 2 0 3 3 1 4 4 1 0 1 3 3 2\n",
      " 1 3 0 3 1 0 3 2 4 2 0 0 0]\n"
     ]
    }
   ],
   "source": [
    "#print(fit_data.labels_)"
   ]
  },
  {
   "cell_type": "code",
   "execution_count": null,
   "id": "e9e135b9",
   "metadata": {},
   "outputs": [],
   "source": [
    "#################################### SCATTER PLOTS TO INVESTIGATE RELATIONSHIPS ##########################################"
   ]
  },
  {
   "cell_type": "code",
   "execution_count": 4,
   "id": "f53caedb",
   "metadata": {},
   "outputs": [],
   "source": [
    "import matplotlib.pyplot as plt"
   ]
  },
  {
   "cell_type": "code",
   "execution_count": 2,
   "id": "84ecd1bd",
   "metadata": {
    "scrolled": true
   },
   "outputs": [
    {
     "data": {
      "text/html": [
       "<div>\n",
       "<style scoped>\n",
       "    .dataframe tbody tr th:only-of-type {\n",
       "        vertical-align: middle;\n",
       "    }\n",
       "\n",
       "    .dataframe tbody tr th {\n",
       "        vertical-align: top;\n",
       "    }\n",
       "\n",
       "    .dataframe thead th {\n",
       "        text-align: right;\n",
       "    }\n",
       "</style>\n",
       "<table border=\"1\" class=\"dataframe\">\n",
       "  <thead>\n",
       "    <tr style=\"text-align: right;\">\n",
       "      <th></th>\n",
       "      <th>FIPS</th>\n",
       "      <th>STATE</th>\n",
       "      <th>COUNTY</th>\n",
       "      <th>POP_ESTIMATE</th>\n",
       "      <th>Less_than_a_high_school_diploma</th>\n",
       "      <th>Employed</th>\n",
       "      <th>Unemployed</th>\n",
       "      <th>Unemployment_rate</th>\n",
       "      <th>Median_Household_Income</th>\n",
       "      <th>Jan Temp AVG / F</th>\n",
       "      <th>...</th>\n",
       "      <th>Family Medicine/General Practice (AAMC)</th>\n",
       "      <th>Total nurse practitioners (2019)</th>\n",
       "      <th>Total physician assistants (2019)</th>\n",
       "      <th>Total Hospitals (2019)</th>\n",
       "      <th>Family Medicine/General Practice Primary Care (2019)</th>\n",
       "      <th>Total Primary Care Physicians (2019)</th>\n",
       "      <th>Emergency Medicine specialists (2019)</th>\n",
       "      <th>ICU Beds</th>\n",
       "      <th>COVID_CASES</th>\n",
       "      <th>COVID_DEATHS</th>\n",
       "    </tr>\n",
       "  </thead>\n",
       "  <tbody>\n",
       "    <tr>\n",
       "      <th>0</th>\n",
       "      <td>1001</td>\n",
       "      <td>Alabama</td>\n",
       "      <td>Autauga</td>\n",
       "      <td>55601</td>\n",
       "      <td>4204</td>\n",
       "      <td>25015.0</td>\n",
       "      <td>942</td>\n",
       "      <td>3.6</td>\n",
       "      <td>59338.0</td>\n",
       "      <td>47.0</td>\n",
       "      <td>...</td>\n",
       "      <td>17.950224</td>\n",
       "      <td>28.859137</td>\n",
       "      <td>6.085786</td>\n",
       "      <td>1.148905</td>\n",
       "      <td>21.249061</td>\n",
       "      <td>66.693385</td>\n",
       "      <td>5.289515</td>\n",
       "      <td>6</td>\n",
       "      <td>10545</td>\n",
       "      <td>157</td>\n",
       "    </tr>\n",
       "    <tr>\n",
       "      <th>1</th>\n",
       "      <td>1003</td>\n",
       "      <td>Alabama</td>\n",
       "      <td>Baldwin</td>\n",
       "      <td>218022</td>\n",
       "      <td>14310</td>\n",
       "      <td>90456.0</td>\n",
       "      <td>3393</td>\n",
       "      <td>3.6</td>\n",
       "      <td>57588.0</td>\n",
       "      <td>52.0</td>\n",
       "      <td>...</td>\n",
       "      <td>70.386210</td>\n",
       "      <td>113.162114</td>\n",
       "      <td>23.863512</td>\n",
       "      <td>4.505074</td>\n",
       "      <td>83.321572</td>\n",
       "      <td>261.517333</td>\n",
       "      <td>20.741184</td>\n",
       "      <td>51</td>\n",
       "      <td>38171</td>\n",
       "      <td>589</td>\n",
       "    </tr>\n",
       "    <tr>\n",
       "      <th>2</th>\n",
       "      <td>1005</td>\n",
       "      <td>Alabama</td>\n",
       "      <td>Barbour</td>\n",
       "      <td>24881</td>\n",
       "      <td>4901</td>\n",
       "      <td>7940.0</td>\n",
       "      <td>433</td>\n",
       "      <td>5.2</td>\n",
       "      <td>34382.0</td>\n",
       "      <td>49.0</td>\n",
       "      <td>...</td>\n",
       "      <td>8.032581</td>\n",
       "      <td>12.914231</td>\n",
       "      <td>2.723340</td>\n",
       "      <td>0.514126</td>\n",
       "      <td>9.508784</td>\n",
       "      <td>29.844753</td>\n",
       "      <td>2.367015</td>\n",
       "      <td>5</td>\n",
       "      <td>3701</td>\n",
       "      <td>80</td>\n",
       "    </tr>\n",
       "    <tr>\n",
       "      <th>3</th>\n",
       "      <td>1007</td>\n",
       "      <td>Alabama</td>\n",
       "      <td>Bibb</td>\n",
       "      <td>22400</td>\n",
       "      <td>2650</td>\n",
       "      <td>8317.0</td>\n",
       "      <td>344</td>\n",
       "      <td>4.0</td>\n",
       "      <td>46064.0</td>\n",
       "      <td>45.2</td>\n",
       "      <td>...</td>\n",
       "      <td>7.231615</td>\n",
       "      <td>11.626493</td>\n",
       "      <td>2.451783</td>\n",
       "      <td>0.462860</td>\n",
       "      <td>8.560619</td>\n",
       "      <td>26.868794</td>\n",
       "      <td>2.130989</td>\n",
       "      <td>0</td>\n",
       "      <td>4354</td>\n",
       "      <td>95</td>\n",
       "    </tr>\n",
       "    <tr>\n",
       "      <th>4</th>\n",
       "      <td>1009</td>\n",
       "      <td>Alabama</td>\n",
       "      <td>Blount</td>\n",
       "      <td>57840</td>\n",
       "      <td>7861</td>\n",
       "      <td>24128.0</td>\n",
       "      <td>878</td>\n",
       "      <td>3.5</td>\n",
       "      <td>50412.0</td>\n",
       "      <td>43.6</td>\n",
       "      <td>...</td>\n",
       "      <td>18.673062</td>\n",
       "      <td>30.021267</td>\n",
       "      <td>6.330854</td>\n",
       "      <td>1.195171</td>\n",
       "      <td>22.104740</td>\n",
       "      <td>69.379065</td>\n",
       "      <td>5.502518</td>\n",
       "      <td>6</td>\n",
       "      <td>10765</td>\n",
       "      <td>193</td>\n",
       "    </tr>\n",
       "  </tbody>\n",
       "</table>\n",
       "<p>5 rows × 67 columns</p>\n",
       "</div>"
      ],
      "text/plain": [
       "   FIPS    STATE   COUNTY  POP_ESTIMATE  Less_than_a_high_school_diploma  \\\n",
       "0  1001  Alabama  Autauga         55601                             4204   \n",
       "1  1003  Alabama  Baldwin        218022                            14310   \n",
       "2  1005  Alabama  Barbour         24881                             4901   \n",
       "3  1007  Alabama     Bibb         22400                             2650   \n",
       "4  1009  Alabama   Blount         57840                             7861   \n",
       "\n",
       "   Employed  Unemployed  Unemployment_rate  Median_Household_Income  \\\n",
       "0   25015.0         942                3.6                  59338.0   \n",
       "1   90456.0        3393                3.6                  57588.0   \n",
       "2    7940.0         433                5.2                  34382.0   \n",
       "3    8317.0         344                4.0                  46064.0   \n",
       "4   24128.0         878                3.5                  50412.0   \n",
       "\n",
       "   Jan Temp AVG / F  ...  Family Medicine/General Practice (AAMC)  \\\n",
       "0              47.0  ...                                17.950224   \n",
       "1              52.0  ...                                70.386210   \n",
       "2              49.0  ...                                 8.032581   \n",
       "3              45.2  ...                                 7.231615   \n",
       "4              43.6  ...                                18.673062   \n",
       "\n",
       "   Total nurse practitioners (2019)  Total physician assistants (2019)  \\\n",
       "0                         28.859137                           6.085786   \n",
       "1                        113.162114                          23.863512   \n",
       "2                         12.914231                           2.723340   \n",
       "3                         11.626493                           2.451783   \n",
       "4                         30.021267                           6.330854   \n",
       "\n",
       "   Total Hospitals (2019)  \\\n",
       "0                1.148905   \n",
       "1                4.505074   \n",
       "2                0.514126   \n",
       "3                0.462860   \n",
       "4                1.195171   \n",
       "\n",
       "   Family Medicine/General Practice Primary Care (2019)  \\\n",
       "0                                          21.249061      \n",
       "1                                          83.321572      \n",
       "2                                           9.508784      \n",
       "3                                           8.560619      \n",
       "4                                          22.104740      \n",
       "\n",
       "   Total Primary Care Physicians (2019)  \\\n",
       "0                             66.693385   \n",
       "1                            261.517333   \n",
       "2                             29.844753   \n",
       "3                             26.868794   \n",
       "4                             69.379065   \n",
       "\n",
       "   Emergency Medicine specialists (2019)  ICU Beds  COVID_CASES  COVID_DEATHS  \n",
       "0                               5.289515         6        10545           157  \n",
       "1                              20.741184        51        38171           589  \n",
       "2                               2.367015         5         3701            80  \n",
       "3                               2.130989         0         4354            95  \n",
       "4                               5.502518         6        10765           193  \n",
       "\n",
       "[5 rows x 67 columns]"
      ]
     },
     "execution_count": 2,
     "metadata": {},
     "output_type": "execute_result"
    }
   ],
   "source": [
    "import pandas as pd\n",
    "county_data= pd.read_csv(\"D:\\\\CPT_S_575\\\\Project\\\\Dataset\\\\corr_data_1.csv\")\n",
    "county_data.head()\n"
   ]
  },
  {
   "cell_type": "code",
   "execution_count": 10,
   "id": "09a13bad",
   "metadata": {},
   "outputs": [],
   "source": [
    "x= county_data[\"POP_ESTIMATE\"]\n",
    "y= county_data[\"COVID_CASES\"]"
   ]
  },
  {
   "cell_type": "code",
   "execution_count": 11,
   "id": "6e3dd2d5",
   "metadata": {},
   "outputs": [
    {
     "data": {
      "image/png": "[encoded data removed]",
      "text/plain": [
       "<Figure size 432x288 with 1 Axes>"
      ]
     },
     "metadata": {
      "needs_background": "light"
     },
     "output_type": "display_data"
    }
   ],
   "source": [
    "import matplotlib.pyplot as plt\n",
    "plt.plot(x, y, 'o')\n",
    "m, b = np.polyfit(x, y, 1)\n",
    "plt.title(\"Correlation between population and coronavirus cases\") #title\n",
    "plt.xlabel(\"Population\") #x label\n",
    "plt.ylabel(\"Coronavirus Cases\") #y label\n",
    "plt.show()"
   ]
  },
  {
   "cell_type": "code",
   "execution_count": 34,
   "id": "bfa2ddf8",
   "metadata": {},
   "outputs": [],
   "source": [
    "m, b = np.polyfit(x, y, 1)"
   ]
  },
  {
   "cell_type": "code",
   "execution_count": 35,
   "id": "ec69633f",
   "metadata": {},
   "outputs": [
    {
     "data": {
      "text/plain": [
       "[<matplotlib.lines.Line2D at 0x21a32b49910>]"
      ]
     },
     "execution_count": 35,
     "metadata": {},
     "output_type": "execute_result"
    },
    {
     "data": {
      "image/png": "[encoded data removed]",
      "text/plain": [
       "<Figure size 432x288 with 1 Axes>"
      ]
     },
     "metadata": {
      "needs_background": "light"
     },
     "output_type": "display_data"
    }
   ],
   "source": [
    "plt.plot(x, m*x + b)\n"
   ]
  },
  {
   "cell_type": "code",
   "execution_count": 1,
   "id": "49bf3d9c",
   "metadata": {},
   "outputs": [],
   "source": [
    "import numpy as np"
   ]
  },
  {
   "cell_type": "code",
   "execution_count": 9,
   "id": "0d716cc1",
   "metadata": {},
   "outputs": [
    {
     "data": {
      "image/png": "[encoded data removed]",
      "text/plain": [
       "<Figure size 432x288 with 1 Axes>"
      ]
     },
     "metadata": {
      "needs_background": "light"
     },
     "output_type": "display_data"
    }
   ],
   "source": [
    "x= county_data[\"Less_than_a_high_school_diploma\"]\n",
    "y= county_data[\"COVID_CASES\"]\n",
    "plt.plot(x, y, 'o')\n",
    "m, b = np.polyfit(x, y, 1)\n",
    "plt.title(\"Correlation between education and coronavirus cases\") #title\n",
    "plt.xlabel(\"Less Than a High School Diploma\") #x label\n",
    "plt.ylabel(\"Coronavirus Cases\") #y label\n",
    "plt.show()\n",
    "# plt.plot(x, m*x + b)"
   ]
  },
  {
   "cell_type": "code",
   "execution_count": null,
   "id": "c1fe0e93",
   "metadata": {},
   "outputs": [],
   "source": [
    "x= county_data[\"Less_than_a_high_school_diploma\"]\n",
    "y= county_data[\"COVID_CASES\"]\n",
    "plt.plot(x, y, 'o')\n",
    "m, b = np.polyfit(x, y, 1)"
   ]
  },
  {
   "cell_type": "code",
   "execution_count": 15,
   "id": "91cbfc7f",
   "metadata": {},
   "outputs": [
    {
     "data": {
      "image/png": "[encoded data removed]",
      "text/plain": [
       "<Figure size 432x288 with 1 Axes>"
      ]
     },
     "metadata": {
      "needs_background": "light"
     },
     "output_type": "display_data"
    }
   ],
   "source": [
    "x= county_data[\"Unemployed\"]\n",
    "y= county_data[\"COVID_CASES\"]\n",
    "plt.plot(x, y, 'o')\n",
    "m, b = np.polyfit(x, y, 1)\n",
    "plt.title(\"Correlation between unemployment and coronavirus cases\") #title\n",
    "plt.xlabel(\"Unemployment\") #x label\n",
    "plt.ylabel(\"Coronavirus Cases\") #y label\n",
    "plt.show()"
   ]
  },
  {
   "cell_type": "code",
   "execution_count": 18,
   "id": "7fe099e9",
   "metadata": {},
   "outputs": [
    {
     "data": {
      "image/png": "[encoded data removed]",
      "text/plain": [
       "<Figure size 432x288 with 1 Axes>"
      ]
     },
     "metadata": {
      "needs_background": "light"
     },
     "output_type": "display_data"
    }
   ],
   "source": [
    "x= county_data[\"WA_MALE\"]\n",
    "y= county_data[\"COVID_CASES\"]\n",
    "plt.plot(x, y, 'o')\n",
    "m, b = np.polyfit(x, y, 1)\n",
    "plt.title(\"Correlation between white american males and coronavirus cases\") #title\n",
    "plt.xlabel(\"White American Males\") #x label\n",
    "plt.ylabel(\"Coronavirus Cases\") #y label\n",
    "plt.show()"
   ]
  },
  {
   "cell_type": "code",
   "execution_count": 23,
   "id": "1e505026",
   "metadata": {},
   "outputs": [
    {
     "data": {
      "image/png": "[encoded data removed]",
      "text/plain": [
       "<Figure size 432x288 with 1 Axes>"
      ]
     },
     "metadata": {
      "needs_background": "light"
     },
     "output_type": "display_data"
    }
   ],
   "source": [
    "x= county_data[\"WA_FEMALE\"]\n",
    "y= county_data[\"COVID_CASES\"]\n",
    "plt.plot(x, y, 'o')\n",
    "m, b = np.polyfit(x, y, 1)\n",
    "plt.title(\"Correlation between white american females and coronavirus cases\") #title\n",
    "plt.xlabel(\"White American Females\") #x label\n",
    "plt.ylabel(\"Coronavirus Cases\") #y label\n",
    "plt.show()"
   ]
  },
  {
   "cell_type": "code",
   "execution_count": 25,
   "id": "5f3c435b",
   "metadata": {},
   "outputs": [
    {
     "data": {
      "image/png": "[encoded data removed]",
      "text/plain": [
       "<Figure size 432x288 with 1 Axes>"
      ]
     },
     "metadata": {
      "needs_background": "light"
     },
     "output_type": "display_data"
    }
   ],
   "source": [
    "x= county_data[\"BA_FEMALE\"]\n",
    "y= county_data[\"COVID_CASES\"]\n",
    "plt.plot(x, y, 'o')\n",
    "m, b = np.polyfit(x, y, 1)\n",
    "plt.title(\"Correlation between black american females and coronavirus cases\") #title\n",
    "plt.xlabel(\"Black American Females\") #x label\n",
    "plt.ylabel(\"Coronavirus Cases\") #y label\n",
    "plt.show()"
   ]
  },
  {
   "cell_type": "code",
   "execution_count": 27,
   "id": "b998ca5e",
   "metadata": {},
   "outputs": [
    {
     "data": {
      "image/png": "[encoded data removed]",
      "text/plain": [
       "<Figure size 432x288 with 1 Axes>"
      ]
     },
     "metadata": {
      "needs_background": "light"
     },
     "output_type": "display_data"
    }
   ],
   "source": [
    "x= county_data[\"BA_MALE\"]\n",
    "y= county_data[\"COVID_CASES\"]\n",
    "plt.plot(x, y, 'o')\n",
    "m, b = np.polyfit(x, y, 1)\n",
    "plt.title(\"Correlation between black american males and coronavirus cases\") #title\n",
    "plt.xlabel(\"Black American Males\") #x label\n",
    "plt.ylabel(\"Coronavirus Cases\") #y label\n",
    "plt.show()"
   ]
  },
  {
   "cell_type": "code",
   "execution_count": 7,
   "id": "7271ebf7",
   "metadata": {},
   "outputs": [
    {
     "data": {
      "image/png": "[encoded data removed]",
      "text/plain": [
       "<Figure size 432x288 with 1 Axes>"
      ]
     },
     "metadata": {
      "needs_background": "light"
     },
     "output_type": "display_data"
    }
   ],
   "source": [
    "x= county_data[\"Jan Temp AVG / F\"]\n",
    "y= county_data[\"COVID_CASES\"]\n",
    "plt.plot(x, y, 'o')\n",
    "m, b = np.polyfit(x, y, 1)\n",
    "plt.title(\"Correlation between Average Temperature in January and coronavirus cases\") #title\n",
    "plt.xlabel(\"Temperature in January\") #x label\n",
    "plt.ylabel(\"Coronavirus Cases\") #y label\n",
    "plt.show()"
   ]
  },
  {
   "cell_type": "code",
   "execution_count": 10,
   "id": "4f9b844d",
   "metadata": {},
   "outputs": [
    {
     "data": {
      "image/png": "[encoded data removed]",
      "text/plain": [
       "<Figure size 432x288 with 1 Axes>"
      ]
     },
     "metadata": {
      "needs_background": "light"
     },
     "output_type": "display_data"
    }
   ],
   "source": [
    "x= county_data[\"Apr Temp AVG / F\"]\n",
    "y= county_data[\"COVID_CASES\"]\n",
    "plt.plot(x, y, 'o')\n",
    "m, b = np.polyfit(x, y, 1)\n",
    "plt.title(\"Correlation between Average Temperature in April and coronavirus cases\") #title\n",
    "plt.xlabel(\"Temperature in April\") #x label\n",
    "plt.ylabel(\"Coronavirus Cases\") #y label\n",
    "plt.show()"
   ]
  },
  {
   "cell_type": "code",
   "execution_count": 14,
   "id": "1b9b505d",
   "metadata": {},
   "outputs": [
    {
     "data": {
      "image/png": "[encoded data removed]",
      "text/plain": [
       "<Figure size 432x288 with 1 Axes>"
      ]
     },
     "metadata": {
      "needs_background": "light"
     },
     "output_type": "display_data"
    }
   ],
   "source": [
    "x= county_data[\"Jul Temp AVG / F\"]\n",
    "y= county_data[\"COVID_CASES\"]\n",
    "plt.plot(x, y, 'o')\n",
    "m, b = np.polyfit(x, y, 1)\n",
    "plt.title(\"Correlation between Average Temperature in July and coronavirus cases\") #title\n",
    "plt.xlabel(\"Temperature in July\") #x label\n",
    "plt.ylabel(\"Coronavirus Cases\") #y label\n",
    "plt.show()"
   ]
  },
  {
   "cell_type": "code",
   "execution_count": null,
   "id": "080a0f0a",
   "metadata": {},
   "outputs": [],
   "source": []
  }
 ],
 "metadata": {
  "kernelspec": {
   "display_name": "Python 3 (ipykernel)",
   "language": "python",
   "name": "python3"
  },
  "language_info": {
   "codemirror_mode": {
    "name": "ipython",
    "version": 3
   },
   "file_extension": ".py",
   "mimetype": "text/x-python",
   "name": "python",
   "nbconvert_exporter": "python",
   "pygments_lexer": "ipython3",
   "version": "3.9.7"
  }
 },
 "nbformat": 4,
 "nbformat_minor": 5
}
